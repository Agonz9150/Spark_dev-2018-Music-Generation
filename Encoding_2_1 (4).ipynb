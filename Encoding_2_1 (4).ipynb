{
 "cells": [
  {
   "cell_type": "code",
   "execution_count": 1,
   "metadata": {},
   "outputs": [],
   "source": [
    "import sys\n",
    "sys.path.append(r\"C:\\Users\\Alex\\Desktop\\New folder\\test\\mido-master\")\n",
    "sys.path.append(r\"C:\\Users\\Alex\\Desktop\\New folder\\test\\pretty-midi-master\")\n",
    "\n",
    "import mido\n",
    "import pretty_midi\n",
    "import numpy as np\n",
    "import os\n",
    "from sklearn.preprocessing import LabelEncoder\n",
    "from sklearn.preprocessing import OneHotEncoder"
   ]
  },
  {
   "cell_type": "code",
   "execution_count": 2,
   "metadata": {},
   "outputs": [],
   "source": [
    "files = []\n",
    "i=0\n",
    "#Grabs files \n",
    "for entry in os.scandir('Midi_file'):\n",
    "    if entry.is_file():\n",
    "        if i < 15:\n",
    "            files.append(entry.path)\n",
    "            i=i+1"
   ]
  },
  {
   "cell_type": "code",
   "execution_count": 22,
   "metadata": {},
   "outputs": [
    {
     "name": "stdout",
     "output_type": "stream",
     "text": [
      "0.09519574999998781\n",
      "0.21626300000000143\n",
      "0.3671193750000157\n",
      "2.257056000000034\n"
     ]
    }
   ],
   "source": [
    "duration = []\n",
    "end_time = []\n",
    "#determines timestamp\n",
    "for midi in files:\n",
    "    midi_data = pretty_midi.PrettyMIDI(midi)\n",
    "    for instrument in midi_data.instruments:\n",
    "        for i,note in enumerate(instrument.notes):\n",
    "                duration.append(note.end - note.start)\n",
    "        end_time.append(note.end)\n",
    "        break\n",
    "duration.sort()\n",
    "bucket_length = int(len(duration)/4)\n",
    "duration_bucket_1 = bucket_length\n",
    "duration_bucket_2 = bucket_length * 2\n",
    "duration_bucket_3 = bucket_length * 3\n",
    "step = [0,0,0,0,0]\n",
    "step[1] = duration[duration_bucket_1]\n",
    "step[2] = duration[duration_bucket_2]\n",
    "step[3] = duration[duration_bucket_3]\n",
    "step[4] = duration[(len(duration) - 100)]\n",
    "print(step[1])\n",
    "print(step[2])\n",
    "print(step[3])\n",
    "print(step[4])"
   ]
  },
  {
   "cell_type": "code",
   "execution_count": 4,
   "metadata": {},
   "outputs": [
    {
     "name": "stderr",
     "output_type": "stream",
     "text": [
      "Using TensorFlow backend.\n"
     ]
    }
   ],
   "source": [
    "import numpy as np\n",
    "import tensorflow as tf\n",
    "from keras import utils as np_utils\n",
    "from keras.models import Sequential\n",
    "from keras.layers import LSTM, Dense, Flatten, Dropout, Activation\n",
    "from keras.callbacks import ModelCheckpoint"
   ]
  },
  {
   "cell_type": "code",
   "execution_count": 5,
   "metadata": {},
   "outputs": [
    {
     "name": "stdout",
     "output_type": "stream",
     "text": [
      "(19045, 100, 1)\n"
     ]
    }
   ],
   "source": [
    "song = []\n",
    "#grabs notes from songs\n",
    "for midi in files:\n",
    "    current_step = 0.0\n",
    "    current_index = 0\n",
    "    midi_data = pretty_midi.PrettyMIDI(midi)\n",
    "\n",
    "    note = []\n",
    "    for instrument in midi_data.instruments:\n",
    "        if(instrument.name==\"Drum kit 2\"):\n",
    "            continue\n",
    "        if not instrument.is_drum:\n",
    "            for n in instrument.notes:\n",
    "                #determines duration lenght and timestamp bucket for each\n",
    "                time = n.end - n.start\n",
    "                if (time < duration[duration_bucket_1]):\n",
    "                    time = 1\n",
    "                elif (time < duration[duration_bucket_2]):\n",
    "                    time = 2\n",
    "                elif (time < duration[duration_bucket_3]):\n",
    "                    time = 3\n",
    "                else:\n",
    "                    time = 4\n",
    "                \n",
    "                \n",
    "                note.append(time)\n",
    "                note.append(n.pitch)\n",
    "                note.append(n.velocity)\n",
    "                \n",
    "                #converts note into one value string\n",
    "                song.append('.'.join(str(i) for i in note))\n",
    "                note.clear()\n",
    "               \n",
    "            break\n",
    "#number of note types\n",
    "n_vocab = len(set(song))\n",
    "#collection of each note_type\n",
    "pitchnames = sorted(set(item for item in song))   \n",
    "\n",
    "#gives an int value to each note type\n",
    "note_to_int = dict((note, number) for number, note in enumerate(pitchnames))\n",
    "\n",
    "#main input vector\n",
    "network_input = []\n",
    "#output vector\n",
    "network_output = []\n",
    "#notes in sequence\n",
    "sequence_length = 100\n",
    "\n",
    "#sets up the list of 100 note sequences\n",
    "for i in range(0, len(song) - sequence_length, 1):\n",
    "    sequence_in = song[i:i + sequence_length]\n",
    "    sequence_out = song[i + sequence_length]\n",
    "    network_input.append([note_to_int[char] for char in sequence_in])\n",
    "    network_output.append(note_to_int[sequence_out])\n",
    "    \n",
    "#how many total sequences    \n",
    "n_patterns = len(network_input)\n",
    "\n",
    "#converts to lstm readable matrix\n",
    "network_input = np.reshape(network_input, (n_patterns, sequence_length, 1))\n",
    "#normalizes note values\n",
    "network_input = network_input / float(n_vocab)\n",
    "\n",
    "network_output = np_utils.to_categorical(network_output)\n",
    "\n",
    "print(network_input.shape)"
   ]
  },
  {
   "cell_type": "code",
   "execution_count": 6,
   "metadata": {},
   "outputs": [
    {
     "name": "stdout",
     "output_type": "stream",
     "text": [
      "_________________________________________________________________\n",
      "Layer (type)                 Output Shape              Param #   \n",
      "=================================================================\n",
      "lstm_1 (LSTM)                (None, 100, 512)          1052672   \n",
      "_________________________________________________________________\n",
      "dropout_1 (Dropout)          (None, 100, 512)          0         \n",
      "_________________________________________________________________\n",
      "lstm_2 (LSTM)                (None, 100, 512)          2099200   \n",
      "_________________________________________________________________\n",
      "flatten_1 (Flatten)          (None, 51200)             0         \n",
      "_________________________________________________________________\n",
      "dense_1 (Dense)              (None, 256)               13107456  \n",
      "_________________________________________________________________\n",
      "dropout_2 (Dropout)          (None, 256)               0         \n",
      "_________________________________________________________________\n",
      "dense_2 (Dense)              (None, 5177)              1330489   \n",
      "_________________________________________________________________\n",
      "activation_1 (Activation)    (None, 5177)              0         \n",
      "=================================================================\n",
      "Total params: 17,589,817\n",
      "Trainable params: 17,589,817\n",
      "Non-trainable params: 0\n",
      "_________________________________________________________________\n",
      "None\n"
     ]
    }
   ],
   "source": [
    "# Building the model architecture\n",
    "#network_input.shape=(time, pitch, velocity)\n",
    "model = Sequential()  \n",
    "model.add(LSTM(512, input_shape=(network_input.shape[1], network_input.shape[2]), return_sequences=True))  \n",
    "model.add(Dropout(0.2))                                                # prevents overfitting\n",
    "model.add(LSTM(512, return_sequences=True))  \n",
    "model.add(Flatten())  \n",
    "model.add(Dense(256))  \n",
    "model.add(Dropout(0.3))  \n",
    "model.add(Dense(n_vocab))                                              # each input node becomes connected to output node\n",
    "model.add(Activation('softmax'))  \n",
    "model.compile(loss='categorical_crossentropy', optimizer='adam')    # optimizer= how it learns while loss= how well it learns\n",
    "\n",
    "print(model.summary())"
   ]
  },
  {
   "cell_type": "code",
   "execution_count": 7,
   "metadata": {
    "scrolled": true
   },
   "outputs": [
    {
     "name": "stdout",
     "output_type": "stream",
     "text": [
      "Epoch 1/200\n",
      "  256/19045 [..............................] - ETA: 18:33 - loss: 8.5598"
     ]
    },
    {
     "ename": "KeyboardInterrupt",
     "evalue": "",
     "output_type": "error",
     "traceback": [
      "\u001b[1;31m---------------------------------------------------------------------------\u001b[0m",
      "\u001b[1;31mKeyboardInterrupt\u001b[0m                         Traceback (most recent call last)",
      "\u001b[1;32m<ipython-input-7-54e9820dd46f>\u001b[0m in \u001b[0;36m<module>\u001b[1;34m\u001b[0m\n\u001b[0;32m      5\u001b[0m \u001b[0mcheckpoint\u001b[0m \u001b[1;33m=\u001b[0m \u001b[0mModelCheckpoint\u001b[0m\u001b[1;33m(\u001b[0m\u001b[0mfilepath\u001b[0m\u001b[1;33m,\u001b[0m \u001b[0mmonitor\u001b[0m\u001b[1;33m=\u001b[0m\u001b[1;34m'loss'\u001b[0m\u001b[1;33m,\u001b[0m \u001b[0mverbose\u001b[0m\u001b[1;33m=\u001b[0m\u001b[1;36m0\u001b[0m\u001b[1;33m,\u001b[0m \u001b[0msave_best_only\u001b[0m\u001b[1;33m=\u001b[0m\u001b[1;32mTrue\u001b[0m\u001b[1;33m)\u001b[0m\u001b[1;33m\u001b[0m\u001b[0m\n\u001b[0;32m      6\u001b[0m \u001b[1;33m\u001b[0m\u001b[0m\n\u001b[1;32m----> 7\u001b[1;33m \u001b[0mmodel\u001b[0m\u001b[1;33m.\u001b[0m\u001b[0mfit\u001b[0m\u001b[1;33m(\u001b[0m\u001b[0mnetwork_input\u001b[0m\u001b[1;33m,\u001b[0m \u001b[0mnetwork_output\u001b[0m\u001b[1;33m,\u001b[0m \u001b[0mepochs\u001b[0m\u001b[1;33m=\u001b[0m\u001b[1;36m200\u001b[0m\u001b[1;33m,\u001b[0m \u001b[0mbatch_size\u001b[0m\u001b[1;33m=\u001b[0m\u001b[1;36m64\u001b[0m\u001b[1;33m,\u001b[0m \u001b[0mcallbacks\u001b[0m\u001b[1;33m=\u001b[0m\u001b[1;33m[\u001b[0m\u001b[0mcheckpoint\u001b[0m\u001b[1;33m]\u001b[0m\u001b[1;33m)\u001b[0m\u001b[1;33m\u001b[0m\u001b[0m\n\u001b[0m",
      "\u001b[1;32m~\\Anaconda3\\envs\\venv\\lib\\site-packages\\keras\\engine\\training.py\u001b[0m in \u001b[0;36mfit\u001b[1;34m(self, x, y, batch_size, epochs, verbose, callbacks, validation_split, validation_data, shuffle, class_weight, sample_weight, initial_epoch, steps_per_epoch, validation_steps, **kwargs)\u001b[0m\n\u001b[0;32m   1037\u001b[0m                                         \u001b[0minitial_epoch\u001b[0m\u001b[1;33m=\u001b[0m\u001b[0minitial_epoch\u001b[0m\u001b[1;33m,\u001b[0m\u001b[1;33m\u001b[0m\u001b[0m\n\u001b[0;32m   1038\u001b[0m                                         \u001b[0msteps_per_epoch\u001b[0m\u001b[1;33m=\u001b[0m\u001b[0msteps_per_epoch\u001b[0m\u001b[1;33m,\u001b[0m\u001b[1;33m\u001b[0m\u001b[0m\n\u001b[1;32m-> 1039\u001b[1;33m                                         validation_steps=validation_steps)\n\u001b[0m\u001b[0;32m   1040\u001b[0m \u001b[1;33m\u001b[0m\u001b[0m\n\u001b[0;32m   1041\u001b[0m     def evaluate(self, x=None, y=None,\n",
      "\u001b[1;32m~\\Anaconda3\\envs\\venv\\lib\\site-packages\\keras\\engine\\training_arrays.py\u001b[0m in \u001b[0;36mfit_loop\u001b[1;34m(model, f, ins, out_labels, batch_size, epochs, verbose, callbacks, val_f, val_ins, shuffle, callback_metrics, initial_epoch, steps_per_epoch, validation_steps)\u001b[0m\n\u001b[0;32m    197\u001b[0m                     \u001b[0mins_batch\u001b[0m\u001b[1;33m[\u001b[0m\u001b[0mi\u001b[0m\u001b[1;33m]\u001b[0m \u001b[1;33m=\u001b[0m \u001b[0mins_batch\u001b[0m\u001b[1;33m[\u001b[0m\u001b[0mi\u001b[0m\u001b[1;33m]\u001b[0m\u001b[1;33m.\u001b[0m\u001b[0mtoarray\u001b[0m\u001b[1;33m(\u001b[0m\u001b[1;33m)\u001b[0m\u001b[1;33m\u001b[0m\u001b[0m\n\u001b[0;32m    198\u001b[0m \u001b[1;33m\u001b[0m\u001b[0m\n\u001b[1;32m--> 199\u001b[1;33m                 \u001b[0mouts\u001b[0m \u001b[1;33m=\u001b[0m \u001b[0mf\u001b[0m\u001b[1;33m(\u001b[0m\u001b[0mins_batch\u001b[0m\u001b[1;33m)\u001b[0m\u001b[1;33m\u001b[0m\u001b[0m\n\u001b[0m\u001b[0;32m    200\u001b[0m                 \u001b[0mouts\u001b[0m \u001b[1;33m=\u001b[0m \u001b[0mto_list\u001b[0m\u001b[1;33m(\u001b[0m\u001b[0mouts\u001b[0m\u001b[1;33m)\u001b[0m\u001b[1;33m\u001b[0m\u001b[0m\n\u001b[0;32m    201\u001b[0m                 \u001b[1;32mfor\u001b[0m \u001b[0ml\u001b[0m\u001b[1;33m,\u001b[0m \u001b[0mo\u001b[0m \u001b[1;32min\u001b[0m \u001b[0mzip\u001b[0m\u001b[1;33m(\u001b[0m\u001b[0mout_labels\u001b[0m\u001b[1;33m,\u001b[0m \u001b[0mouts\u001b[0m\u001b[1;33m)\u001b[0m\u001b[1;33m:\u001b[0m\u001b[1;33m\u001b[0m\u001b[0m\n",
      "\u001b[1;32m~\\Anaconda3\\envs\\venv\\lib\\site-packages\\keras\\backend\\tensorflow_backend.py\u001b[0m in \u001b[0;36m__call__\u001b[1;34m(self, inputs)\u001b[0m\n\u001b[0;32m   2713\u001b[0m                 \u001b[1;32mreturn\u001b[0m \u001b[0mself\u001b[0m\u001b[1;33m.\u001b[0m\u001b[0m_legacy_call\u001b[0m\u001b[1;33m(\u001b[0m\u001b[0minputs\u001b[0m\u001b[1;33m)\u001b[0m\u001b[1;33m\u001b[0m\u001b[0m\n\u001b[0;32m   2714\u001b[0m \u001b[1;33m\u001b[0m\u001b[0m\n\u001b[1;32m-> 2715\u001b[1;33m             \u001b[1;32mreturn\u001b[0m \u001b[0mself\u001b[0m\u001b[1;33m.\u001b[0m\u001b[0m_call\u001b[0m\u001b[1;33m(\u001b[0m\u001b[0minputs\u001b[0m\u001b[1;33m)\u001b[0m\u001b[1;33m\u001b[0m\u001b[0m\n\u001b[0m\u001b[0;32m   2716\u001b[0m         \u001b[1;32melse\u001b[0m\u001b[1;33m:\u001b[0m\u001b[1;33m\u001b[0m\u001b[0m\n\u001b[0;32m   2717\u001b[0m             \u001b[1;32mif\u001b[0m \u001b[0mpy_any\u001b[0m\u001b[1;33m(\u001b[0m\u001b[0mis_tensor\u001b[0m\u001b[1;33m(\u001b[0m\u001b[0mx\u001b[0m\u001b[1;33m)\u001b[0m \u001b[1;32mfor\u001b[0m \u001b[0mx\u001b[0m \u001b[1;32min\u001b[0m \u001b[0minputs\u001b[0m\u001b[1;33m)\u001b[0m\u001b[1;33m:\u001b[0m\u001b[1;33m\u001b[0m\u001b[0m\n",
      "\u001b[1;32m~\\Anaconda3\\envs\\venv\\lib\\site-packages\\keras\\backend\\tensorflow_backend.py\u001b[0m in \u001b[0;36m_call\u001b[1;34m(self, inputs)\u001b[0m\n\u001b[0;32m   2673\u001b[0m             \u001b[0mfetched\u001b[0m \u001b[1;33m=\u001b[0m \u001b[0mself\u001b[0m\u001b[1;33m.\u001b[0m\u001b[0m_callable_fn\u001b[0m\u001b[1;33m(\u001b[0m\u001b[1;33m*\u001b[0m\u001b[0marray_vals\u001b[0m\u001b[1;33m,\u001b[0m \u001b[0mrun_metadata\u001b[0m\u001b[1;33m=\u001b[0m\u001b[0mself\u001b[0m\u001b[1;33m.\u001b[0m\u001b[0mrun_metadata\u001b[0m\u001b[1;33m)\u001b[0m\u001b[1;33m\u001b[0m\u001b[0m\n\u001b[0;32m   2674\u001b[0m         \u001b[1;32melse\u001b[0m\u001b[1;33m:\u001b[0m\u001b[1;33m\u001b[0m\u001b[0m\n\u001b[1;32m-> 2675\u001b[1;33m             \u001b[0mfetched\u001b[0m \u001b[1;33m=\u001b[0m \u001b[0mself\u001b[0m\u001b[1;33m.\u001b[0m\u001b[0m_callable_fn\u001b[0m\u001b[1;33m(\u001b[0m\u001b[1;33m*\u001b[0m\u001b[0marray_vals\u001b[0m\u001b[1;33m)\u001b[0m\u001b[1;33m\u001b[0m\u001b[0m\n\u001b[0m\u001b[0;32m   2676\u001b[0m         \u001b[1;32mreturn\u001b[0m \u001b[0mfetched\u001b[0m\u001b[1;33m[\u001b[0m\u001b[1;33m:\u001b[0m\u001b[0mlen\u001b[0m\u001b[1;33m(\u001b[0m\u001b[0mself\u001b[0m\u001b[1;33m.\u001b[0m\u001b[0moutputs\u001b[0m\u001b[1;33m)\u001b[0m\u001b[1;33m]\u001b[0m\u001b[1;33m\u001b[0m\u001b[0m\n\u001b[0;32m   2677\u001b[0m \u001b[1;33m\u001b[0m\u001b[0m\n",
      "\u001b[1;32m~\\Anaconda3\\envs\\venv\\lib\\site-packages\\tensorflow\\python\\client\\session.py\u001b[0m in \u001b[0;36m__call__\u001b[1;34m(self, *args, **kwargs)\u001b[0m\n\u001b[0;32m   1397\u001b[0m           ret = tf_session.TF_SessionRunCallable(\n\u001b[0;32m   1398\u001b[0m               \u001b[0mself\u001b[0m\u001b[1;33m.\u001b[0m\u001b[0m_session\u001b[0m\u001b[1;33m.\u001b[0m\u001b[0m_session\u001b[0m\u001b[1;33m,\u001b[0m \u001b[0mself\u001b[0m\u001b[1;33m.\u001b[0m\u001b[0m_handle\u001b[0m\u001b[1;33m,\u001b[0m \u001b[0margs\u001b[0m\u001b[1;33m,\u001b[0m \u001b[0mstatus\u001b[0m\u001b[1;33m,\u001b[0m\u001b[1;33m\u001b[0m\u001b[0m\n\u001b[1;32m-> 1399\u001b[1;33m               run_metadata_ptr)\n\u001b[0m\u001b[0;32m   1400\u001b[0m         \u001b[1;32mif\u001b[0m \u001b[0mrun_metadata\u001b[0m\u001b[1;33m:\u001b[0m\u001b[1;33m\u001b[0m\u001b[0m\n\u001b[0;32m   1401\u001b[0m           \u001b[0mproto_data\u001b[0m \u001b[1;33m=\u001b[0m \u001b[0mtf_session\u001b[0m\u001b[1;33m.\u001b[0m\u001b[0mTF_GetBuffer\u001b[0m\u001b[1;33m(\u001b[0m\u001b[0mrun_metadata_ptr\u001b[0m\u001b[1;33m)\u001b[0m\u001b[1;33m\u001b[0m\u001b[0m\n",
      "\u001b[1;31mKeyboardInterrupt\u001b[0m: "
     ]
    }
   ],
   "source": [
    "from keras.callbacks import ModelCheckpoint\n",
    "    \n",
    "# Create checkpoint to save the best model weights.\n",
    "filepath = filepath = r\"C:\\Users\\Alex\\Desktop\\model_results\\model--{epoch:02d}-{loss:.4f}-bigger.hdf5\"\n",
    "checkpoint = ModelCheckpoint(filepath, monitor='loss', verbose=0, save_best_only=True)\n",
    "    \n",
    "model.fit(network_input, network_output, epochs=200, batch_size=64, callbacks=[checkpoint])"
   ]
  },
  {
   "cell_type": "code",
   "execution_count": 11,
   "metadata": {
    "scrolled": false
   },
   "outputs": [
    {
     "name": "stdout",
     "output_type": "stream",
     "text": [
      "['2.43.71', '2.43.71', '2.52.63', '2.43.71', '2.46.71', '2.52.63', '2.46.71', '2.43.71', '2.52.63', '3.46.65', '3.52.65', '3.43.65', '4.60.35', '4.48.27', '1.44.25', '1.56.31', '4.53.28', '4.41.22', '4.44.27', '4.56.35', '2.60.30', '2.48.24', '4.53.27', '4.65.35', '4.56.28', '4.68.36', '2.60.25', '2.72.31', '4.65.31', '4.77.40', '4.53.26', '4.65.33', '4.72.35', '2.74.33', '4.64.26', '4.67.26', '1.74.33', '1.76.29', '1.74.33', '1.76.29', '1.74.33', '1.76.30', '1.74.33', '1.76.29', '1.74.33', '1.76.30', '1.74.28', '1.76.33', '1.74.28', '2.72.30', '2.76.35', '2.74.31', '4.71.26', '4.65.26', '4.67.22', '4.64.19', '4.72.35', '4.49.27', '4.61.35', '2.46.25', '2.58.31', '4.42.22', '4.54.28', '4.58.35', '4.46.27', '2.49.24', '2.61.30', '4.66.35', '4.54.27', '4.58.28', '4.70.36', '2.73.31', '2.61.25', '4.66.31', '4.78.40', '4.66.33', '4.54.26', '4.73.35', '2.75.33', '4.68.26', '4.65.26', '1.75.28', '1.77.25', '1.75.28', '1.77.25', '1.75.28', '1.77.25', '1.75.29', '1.77.25', '1.75.29', '1.77.26', '1.75.29', '1.77.27', '1.75.24', '2.73.30', '2.77.35', '2.75.31', '4.72.26', '4.66.26', '4.68.22', '4.65.19', '4.73.35', '4.72.35', '2.74.38', '1.72.38', '1.74.37', '1.76.32', '1.74.37', '1.76.33', '1.74.37', '1.76.33', '1.74.37', '1.76.33', '1.74.37', '1.76.34', '1.74.31', '1.76.37', '1.74.31', '2.72.34', '2.76.40', '2.74.35', '4.72.35', '4.76.40', '2.77.38', '1.76.38', '1.77.37', '1.79.32', '1.77.37', '1.79.33', '1.77.37', '1.79.33', '1.77.37', '1.79.33', '1.77.37', '1.79.34', '1.77.31', '1.79.37', '1.77.31', '2.76.34', '2.79.40', '2.77.35', '4.76.35', '2.79.35', '2.76.35', '2.79.31', '2.76.31', '2.76.35', '2.79.35', '4.79.35', '4.82.35', '2.82.66', '2.79.66', '2.82.62', '2.79.62', '2.79.68', '2.82.68', '1.88.71', '1.82.64', '1.91.72', '1.88.64', '1.94.73', '1.91.66', '1.88.74', '1.91.67', '1.82.74', '1.88.68', '1.79.75', '1.82.68', '1.76.75', '1.79.69', '1.70.76', '1.76.67', '1.67.76', '1.70.70', '1.64.77', '1.67.68', '1.58.78', '1.64.71', '4.60.35', '2.57.31', '3.53.103', '3.65.101', '3.57.75', '3.53.75', '3.60.85', '3.57.72', '3.60.72', '3.65.81', '3.69.96', '3.69.79', '3.60.71', '3.65.71', '3.72.96', '3.65.72', '3.69.72', '3.77.95', '3.72.80', '3.81.103', '3.77.86', '3.69.76', '3.72.76', '2.81.78', '2.77.78', '2.84.94', '2.72.71', '4.77.76', '4.81.86', '4.84.86', '4.89.103', '4.57.41', '2.60.35', '4.65.40', '4.69.43', '1.72.37', '4.77.40', '4.65.40', '3.60.103', '3.64.101', '3.60.85', '3.64.81', '3.67.96', '3.60.72', '3.64.72', '3.72.98', '3.67.81', '3.72.80', '3.67.72', '3.76.95', '3.76.86', '3.72.76', '3.79.103', '3.79.78', '3.76.78', '3.84.94', '4.72.41', '2.74.45', '1.74.38', '1.76.35', '1.74.38', '1.76.36', '1.74.39', '1.76.36', '1.74.38', '1.76.36', '1.74.39', '1.76.37', '1.74.35', '1.76.39', '1.74.35', '2.72.36', '2.76.41', '2.74.38', '3.60.103', '3.60.85', '3.64.101', '3.60.72', '3.67.96', '3.64.81', '3.67.81', '3.64.72', '3.72.98', '3.72.80', '3.67.72', '3.76.95', '3.76.86', '3.72.76', '3.79.103', '3.79.78', '3.84.94', '3.76.78', '4.72.41', '2.74.45', '1.74.44', '1.76.39', '1.74.42', '1.76.37', '1.74.41', '1.76.36', '1.74.40', '1.76.37', '1.74.41', '1.76.38', '1.74.37', '1.76.42', '2.74.41', '2.72.48', '2.74.44', '3.58.81', '3.64.103', '3.55.81', '3.67.101', '3.58.85', '3.64.85', '3.64.72', '3.70.96', '3.67.81', '3.67.75', '3.76.101', '3.70.85', '3.76.80', '3.79.95', '3.70.72', '3.79.86', '3.82.103', '3.76.76', '3.82.78', '3.88.94', '3.79.78', '4.76.48', '2.77.52', '1.77.46', '1.79.41', '1.77.46', '1.79.41', '1.77.46', '1.79.41', '1.77.46', '1.79.42', '1.77.46', '1.79.43', '1.77.40', '1.79.46', '2.77.42', '2.76.48', '2.77.44', '3.64.81', '3.67.103', '3.73.85', '3.76.101', '3.79.96', '3.76.81', '3.79.85', '3.82.101', '3.85.95', '3.82.80', '3.88.103', '3.85.86', '3.91.94', '3.88.78', '4.79.79', '2.80.87', '4.76.59', '1.80.76', '1.82.68', '1.80.76', '1.82.68', '1.80.76', '1.82.68', '1.80.76', '1.82.67', '1.80.67', '2.79.70', '2.82.79', '2.80.73', '4.77.64', '4.79.58', '4.76.58', '4.80.56', '4.77.56', '4.85.75', '4.77.75', '4.80.75', '3.84.52', '3.76.52', '3.79.52', '4.79.56', '4.76.56', '2.76.52', '2.79.52', '3.77.58', '3.80.58', '2.76.52', '2.79.52', '2.64.50', '2.67.50', '2.52.49', '2.55.49', '1.76.58', '1.79.58', '3.79.61', '3.82.61', '2.80.52', '2.77.52', '2.68.49', '2.65.49', '2.56.47', '2.53.47', '2.80.52', '2.77.52', '4.85.75', '4.77.75', '4.80.75', '3.84.61', '3.76.61', '3.79.61', '4.72.52', '4.63.52', '4.66.52', '3.62.52', '3.71.52', '3.65.52', '3.65.46', '3.70.46', '3.61.46', '4.65.41', '4.68.41', '4.60.41', '4.57.44', '2.60.40', '4.65.41', '4.53.38', '4.69.44', '4.57.40', '2.53.36', '2.65.39', '4.52.38', '4.64.41', '4.55.40', '4.67.44', '2.52.36', '2.64.39', '4.65.41', '4.53.38', '4.60.40', '4.62.44', '2.58.40', '4.57.44', '4.60.44', '2.57.39', '4.55.44', '4.60.44', '2.58.39', '4.57.42', '4.60.42', '4.69.55', '2.72.53', '4.77.56', '4.65.51', '4.69.57', '4.81.62', '2.65.53', '2.77.58', '4.64.57', '4.76.61', '4.67.62', '4.79.68', '2.64.58', '2.76.63', '4.65.51', '4.77.57', '4.72.52', '4.60.48', '4.73.85', '4.61.72', '4.70.81', '4.58.69', '4.68.58', '3.67.51', '2.65.49', '1.67.46', '1.68.39', '1.67.46', '1.68.40', '1.67.47', '1.68.40', '1.67.48', '1.68.41', '1.67.49', '1.68.42', '1.67.50', '1.68.42', '1.67.51', '1.68.44', '1.67.51', '1.68.45', '1.67.52', '1.68.46', '1.67.53', '1.68.48', '1.67.55', '1.68.48', '1.67.56', '1.68.48', '2.73.46', '1.72.39', '1.73.46', '1.72.40', '1.73.48', '1.72.41', '1.73.50', '1.72.44', '1.73.51', '1.72.45', '1.73.53', '1.72.47', '1.73.56', '1.72.48', '1.73.56', '1.72.47', '1.73.56']\n"
     ]
    }
   ],
   "source": [
    "# ignore from here down until top works\n",
    "\n",
    "# Building the model architecture\n",
    "model = Sequential()  \n",
    "model.add(LSTM(512, input_shape=(network_input.shape[1], network_input.shape[2]), return_sequences=True))  \n",
    "model.add(Dropout(0.2))                                                # prevents overfitting\n",
    "model.add(LSTM(512, return_sequences=True))  \n",
    "model.add(Flatten())  \n",
    "model.add(Dense(256))  \n",
    "model.add(Dropout(0.3))  \n",
    "model.add(Dense(n_vocab))                                              # each input node becomes connected to output node\n",
    "model.add(Activation('softmax'))  \n",
    "model.compile(loss='categorical_crossentropy', optimizer='rmsprop')    # optimizer= how it learns while loss= how well it learns\n",
    "\n",
    "model.load_weights(r\"C:\\Users\\Alex\\Desktop\\model_results\\model--64-0.1543-bigger.hdf5\")\n",
    "# Pick a random integer  \n",
    "start = np.random.randint(0, len(network_input)-1)  \n",
    "int_to_note = dict((number, note) for number, note in enumerate(pitchnames))  \n",
    "    # pick a random sequence from the input as a starting point for the prediction  \n",
    "\n",
    "pattern = network_input[start]\n",
    "\n",
    "prediction_output = []  \n",
    "    #print('Generating notes........')  \n",
    "    # generate 500 notes  \n",
    "for note_index in range(500):  \n",
    "    prediction_input = np.reshape(pattern, (1, len(pattern), 1))  \n",
    "    prediction_input = prediction_input / float(n_vocab)  \n",
    "    prediction = model.predict(prediction_input, verbose=0)  \n",
    "         # Predicted output is the argmax(P(h|D))  \n",
    "    index = np.argmax(prediction)  \n",
    "         # Mapping the predicted interger back to the corresponding note  \n",
    "    result = int_to_note[index]  \n",
    "         # Storing the predicted output  \n",
    "    prediction_output.append(result) \n",
    "    pattern = np.append(pattern,index)  \n",
    "         # Next input to the model  \n",
    "    pattern = pattern[1:len(pattern)]  \n",
    "print(prediction_output)\n",
    "\n",
    "\n",
    "\n",
    "\n",
    "\n"
   ]
  },
  {
   "cell_type": "code",
   "execution_count": 16,
   "metadata": {},
   "outputs": [
    {
     "name": "stdout",
     "output_type": "stream",
     "text": [
      "[[2, 43, 71], [2, 43, 71], [2, 52, 63], [2, 43, 71], [2, 46, 71], [2, 52, 63], [2, 46, 71], [2, 43, 71], [2, 52, 63], [3, 46, 65], [3, 52, 65], [3, 43, 65], [4, 60, 35], [4, 48, 27], [1, 44, 25], [1, 56, 31], [4, 53, 28], [4, 41, 22], [4, 44, 27], [4, 56, 35], [2, 60, 30], [2, 48, 24], [4, 53, 27], [4, 65, 35], [4, 56, 28], [4, 68, 36], [2, 60, 25], [2, 72, 31], [4, 65, 31], [4, 77, 40], [4, 53, 26], [4, 65, 33], [4, 72, 35], [2, 74, 33], [4, 64, 26], [4, 67, 26], [1, 74, 33], [1, 76, 29], [1, 74, 33], [1, 76, 29], [1, 74, 33], [1, 76, 30], [1, 74, 33], [1, 76, 29], [1, 74, 33], [1, 76, 30], [1, 74, 28], [1, 76, 33], [1, 74, 28], [2, 72, 30], [2, 76, 35], [2, 74, 31], [4, 71, 26], [4, 65, 26], [4, 67, 22], [4, 64, 19], [4, 72, 35], [4, 49, 27], [4, 61, 35], [2, 46, 25], [2, 58, 31], [4, 42, 22], [4, 54, 28], [4, 58, 35], [4, 46, 27], [2, 49, 24], [2, 61, 30], [4, 66, 35], [4, 54, 27], [4, 58, 28], [4, 70, 36], [2, 73, 31], [2, 61, 25], [4, 66, 31], [4, 78, 40], [4, 66, 33], [4, 54, 26], [4, 73, 35], [2, 75, 33], [4, 68, 26], [4, 65, 26], [1, 75, 28], [1, 77, 25], [1, 75, 28], [1, 77, 25], [1, 75, 28], [1, 77, 25], [1, 75, 29], [1, 77, 25], [1, 75, 29], [1, 77, 26], [1, 75, 29], [1, 77, 27], [1, 75, 24], [2, 73, 30], [2, 77, 35], [2, 75, 31], [4, 72, 26], [4, 66, 26], [4, 68, 22], [4, 65, 19], [4, 73, 35], [4, 72, 35], [2, 74, 38], [1, 72, 38], [1, 74, 37], [1, 76, 32], [1, 74, 37], [1, 76, 33], [1, 74, 37], [1, 76, 33], [1, 74, 37], [1, 76, 33], [1, 74, 37], [1, 76, 34], [1, 74, 31], [1, 76, 37], [1, 74, 31], [2, 72, 34], [2, 76, 40], [2, 74, 35], [4, 72, 35], [4, 76, 40], [2, 77, 38], [1, 76, 38], [1, 77, 37], [1, 79, 32], [1, 77, 37], [1, 79, 33], [1, 77, 37], [1, 79, 33], [1, 77, 37], [1, 79, 33], [1, 77, 37], [1, 79, 34], [1, 77, 31], [1, 79, 37], [1, 77, 31], [2, 76, 34], [2, 79, 40], [2, 77, 35], [4, 76, 35], [2, 79, 35], [2, 76, 35], [2, 79, 31], [2, 76, 31], [2, 76, 35], [2, 79, 35], [4, 79, 35], [4, 82, 35], [2, 82, 66], [2, 79, 66], [2, 82, 62], [2, 79, 62], [2, 79, 68], [2, 82, 68], [1, 88, 71], [1, 82, 64], [1, 91, 72], [1, 88, 64], [1, 94, 73], [1, 91, 66], [1, 88, 74], [1, 91, 67], [1, 82, 74], [1, 88, 68], [1, 79, 75], [1, 82, 68], [1, 76, 75], [1, 79, 69], [1, 70, 76], [1, 76, 67], [1, 67, 76], [1, 70, 70], [1, 64, 77], [1, 67, 68], [1, 58, 78], [1, 64, 71], [4, 60, 35], [2, 57, 31], [3, 53, 103], [3, 65, 101], [3, 57, 75], [3, 53, 75], [3, 60, 85], [3, 57, 72], [3, 60, 72], [3, 65, 81], [3, 69, 96], [3, 69, 79], [3, 60, 71], [3, 65, 71], [3, 72, 96], [3, 65, 72], [3, 69, 72], [3, 77, 95], [3, 72, 80], [3, 81, 103], [3, 77, 86], [3, 69, 76], [3, 72, 76], [2, 81, 78], [2, 77, 78], [2, 84, 94], [2, 72, 71], [4, 77, 76], [4, 81, 86], [4, 84, 86], [4, 89, 103], [4, 57, 41], [2, 60, 35], [4, 65, 40], [4, 69, 43], [1, 72, 37], [4, 77, 40], [4, 65, 40], [3, 60, 103], [3, 64, 101], [3, 60, 85], [3, 64, 81], [3, 67, 96], [3, 60, 72], [3, 64, 72], [3, 72, 98], [3, 67, 81], [3, 72, 80], [3, 67, 72], [3, 76, 95], [3, 76, 86], [3, 72, 76], [3, 79, 103], [3, 79, 78], [3, 76, 78], [3, 84, 94], [4, 72, 41], [2, 74, 45], [1, 74, 38], [1, 76, 35], [1, 74, 38], [1, 76, 36], [1, 74, 39], [1, 76, 36], [1, 74, 38], [1, 76, 36], [1, 74, 39], [1, 76, 37], [1, 74, 35], [1, 76, 39], [1, 74, 35], [2, 72, 36], [2, 76, 41], [2, 74, 38], [3, 60, 103], [3, 60, 85], [3, 64, 101], [3, 60, 72], [3, 67, 96], [3, 64, 81], [3, 67, 81], [3, 64, 72], [3, 72, 98], [3, 72, 80], [3, 67, 72], [3, 76, 95], [3, 76, 86], [3, 72, 76], [3, 79, 103], [3, 79, 78], [3, 84, 94], [3, 76, 78], [4, 72, 41], [2, 74, 45], [1, 74, 44], [1, 76, 39], [1, 74, 42], [1, 76, 37], [1, 74, 41], [1, 76, 36], [1, 74, 40], [1, 76, 37], [1, 74, 41], [1, 76, 38], [1, 74, 37], [1, 76, 42], [2, 74, 41], [2, 72, 48], [2, 74, 44], [3, 58, 81], [3, 64, 103], [3, 55, 81], [3, 67, 101], [3, 58, 85], [3, 64, 85], [3, 64, 72], [3, 70, 96], [3, 67, 81], [3, 67, 75], [3, 76, 101], [3, 70, 85], [3, 76, 80], [3, 79, 95], [3, 70, 72], [3, 79, 86], [3, 82, 103], [3, 76, 76], [3, 82, 78], [3, 88, 94], [3, 79, 78], [4, 76, 48], [2, 77, 52], [1, 77, 46], [1, 79, 41], [1, 77, 46], [1, 79, 41], [1, 77, 46], [1, 79, 41], [1, 77, 46], [1, 79, 42], [1, 77, 46], [1, 79, 43], [1, 77, 40], [1, 79, 46], [2, 77, 42], [2, 76, 48], [2, 77, 44], [3, 64, 81], [3, 67, 103], [3, 73, 85], [3, 76, 101], [3, 79, 96], [3, 76, 81], [3, 79, 85], [3, 82, 101], [3, 85, 95], [3, 82, 80], [3, 88, 103], [3, 85, 86], [3, 91, 94], [3, 88, 78], [4, 79, 79], [2, 80, 87], [4, 76, 59], [1, 80, 76], [1, 82, 68], [1, 80, 76], [1, 82, 68], [1, 80, 76], [1, 82, 68], [1, 80, 76], [1, 82, 67], [1, 80, 67], [2, 79, 70], [2, 82, 79], [2, 80, 73], [4, 77, 64], [4, 79, 58], [4, 76, 58], [4, 80, 56], [4, 77, 56], [4, 85, 75], [4, 77, 75], [4, 80, 75], [3, 84, 52], [3, 76, 52], [3, 79, 52], [4, 79, 56], [4, 76, 56], [2, 76, 52], [2, 79, 52], [3, 77, 58], [3, 80, 58], [2, 76, 52], [2, 79, 52], [2, 64, 50], [2, 67, 50], [2, 52, 49], [2, 55, 49], [1, 76, 58], [1, 79, 58], [3, 79, 61], [3, 82, 61], [2, 80, 52], [2, 77, 52], [2, 68, 49], [2, 65, 49], [2, 56, 47], [2, 53, 47], [2, 80, 52], [2, 77, 52], [4, 85, 75], [4, 77, 75], [4, 80, 75], [3, 84, 61], [3, 76, 61], [3, 79, 61], [4, 72, 52], [4, 63, 52], [4, 66, 52], [3, 62, 52], [3, 71, 52], [3, 65, 52], [3, 65, 46], [3, 70, 46], [3, 61, 46], [4, 65, 41], [4, 68, 41], [4, 60, 41], [4, 57, 44], [2, 60, 40], [4, 65, 41], [4, 53, 38], [4, 69, 44], [4, 57, 40], [2, 53, 36], [2, 65, 39], [4, 52, 38], [4, 64, 41], [4, 55, 40], [4, 67, 44], [2, 52, 36], [2, 64, 39], [4, 65, 41], [4, 53, 38], [4, 60, 40], [4, 62, 44], [2, 58, 40], [4, 57, 44], [4, 60, 44], [2, 57, 39], [4, 55, 44], [4, 60, 44], [2, 58, 39], [4, 57, 42], [4, 60, 42], [4, 69, 55], [2, 72, 53], [4, 77, 56], [4, 65, 51], [4, 69, 57], [4, 81, 62], [2, 65, 53], [2, 77, 58], [4, 64, 57], [4, 76, 61], [4, 67, 62], [4, 79, 68], [2, 64, 58], [2, 76, 63], [4, 65, 51], [4, 77, 57], [4, 72, 52], [4, 60, 48], [4, 73, 85], [4, 61, 72], [4, 70, 81], [4, 58, 69], [4, 68, 58], [3, 67, 51], [2, 65, 49], [1, 67, 46], [1, 68, 39], [1, 67, 46], [1, 68, 40], [1, 67, 47], [1, 68, 40], [1, 67, 48], [1, 68, 41], [1, 67, 49], [1, 68, 42], [1, 67, 50], [1, 68, 42], [1, 67, 51], [1, 68, 44], [1, 67, 51], [1, 68, 45], [1, 67, 52], [1, 68, 46], [1, 67, 53], [1, 68, 48], [1, 67, 55], [1, 68, 48], [1, 67, 56], [1, 68, 48], [2, 73, 46], [1, 72, 39], [1, 73, 46], [1, 72, 40], [1, 73, 48], [1, 72, 41], [1, 73, 50], [1, 72, 44], [1, 73, 51], [1, 72, 45], [1, 73, 53], [1, 72, 47], [1, 73, 56], [1, 72, 48], [1, 73, 56], [1, 72, 47], [1, 73, 56]]\n"
     ]
    }
   ],
   "source": [
    "temp_song = []\n",
    "temp_note = []\n",
    "temp_value = 0\n",
    "for converted_note in prediction_output:\n",
    "    for char in converted_note:\n",
    "        if char != '.':\n",
    "            temp_value = temp_value * 10 + int(char) \n",
    "        if char == '.':\n",
    "            temp_note.append(temp_value)\n",
    "            temp_value = 0\n",
    "    temp_note.append(temp_value)\n",
    "    temp_value = 0\n",
    "    temp_song.append(temp_note)\n",
    "    temp_note = []\n",
    "print(temp_song)            "
   ]
  },
  {
   "cell_type": "code",
   "execution_count": 26,
   "metadata": {},
   "outputs": [
    {
     "ename": "ValueError",
     "evalue": "Piano is not a valid General MIDI instrument name.",
     "output_type": "error",
     "traceback": [
      "\u001b[1;31m---------------------------------------------------------------------------\u001b[0m",
      "\u001b[1;31mValueError\u001b[0m                                Traceback (most recent call last)",
      "\u001b[1;32m~\\Desktop\\New folder\\test\\pretty-midi-master\\pretty_midi\\utilities.py\u001b[0m in \u001b[0;36minstrument_name_to_program\u001b[1;34m(instrument_name)\u001b[0m\n\u001b[0;32m    515\u001b[0m     \u001b[1;32mtry\u001b[0m\u001b[1;33m:\u001b[0m\u001b[1;33m\u001b[0m\u001b[0m\n\u001b[1;32m--> 516\u001b[1;33m         \u001b[0mprogram_number\u001b[0m \u001b[1;33m=\u001b[0m \u001b[0mnormalized_inst_names\u001b[0m\u001b[1;33m.\u001b[0m\u001b[0mindex\u001b[0m\u001b[1;33m(\u001b[0m\u001b[0mnormalized_inst_name\u001b[0m\u001b[1;33m)\u001b[0m\u001b[1;33m\u001b[0m\u001b[0m\n\u001b[0m\u001b[0;32m    517\u001b[0m     \u001b[1;32mexcept\u001b[0m\u001b[1;33m:\u001b[0m\u001b[1;33m\u001b[0m\u001b[0m\n",
      "\u001b[1;31mValueError\u001b[0m: 'piano' is not in list",
      "\nDuring handling of the above exception, another exception occurred:\n",
      "\u001b[1;31mValueError\u001b[0m                                Traceback (most recent call last)",
      "\u001b[1;32m<ipython-input-26-0f75092316cb>\u001b[0m in \u001b[0;36m<module>\u001b[1;34m\u001b[0m\n\u001b[0;32m      1\u001b[0m \u001b[0mstart_time\u001b[0m \u001b[1;33m=\u001b[0m \u001b[1;36m0\u001b[0m\u001b[1;33m\u001b[0m\u001b[0m\n\u001b[0;32m      2\u001b[0m \u001b[0moutput_song\u001b[0m \u001b[1;33m=\u001b[0m \u001b[0mpretty_midi\u001b[0m\u001b[1;33m.\u001b[0m\u001b[0mPrettyMIDI\u001b[0m\u001b[1;33m(\u001b[0m\u001b[1;33m)\u001b[0m\u001b[1;33m\u001b[0m\u001b[0m\n\u001b[1;32m----> 3\u001b[1;33m \u001b[0moutput_piano\u001b[0m \u001b[1;33m=\u001b[0m \u001b[0mpretty_midi\u001b[0m\u001b[1;33m.\u001b[0m\u001b[0minstrument_name_to_program\u001b[0m\u001b[1;33m(\u001b[0m\u001b[1;34m'Piano'\u001b[0m\u001b[1;33m)\u001b[0m\u001b[1;33m\u001b[0m\u001b[0m\n\u001b[0m\u001b[0;32m      4\u001b[0m \u001b[0mpiano\u001b[0m \u001b[1;33m=\u001b[0m \u001b[0mpretty_midi\u001b[0m\u001b[1;33m.\u001b[0m\u001b[0mInstrument\u001b[0m\u001b[1;33m(\u001b[0m\u001b[0mprogram\u001b[0m\u001b[1;33m=\u001b[0m\u001b[0moutput_piano\u001b[0m\u001b[1;33m)\u001b[0m\u001b[1;33m\u001b[0m\u001b[0m\n\u001b[0;32m      5\u001b[0m \u001b[1;32mfor\u001b[0m \u001b[0mitem\u001b[0m \u001b[1;32min\u001b[0m \u001b[0mtemp_song\u001b[0m\u001b[1;33m:\u001b[0m\u001b[1;33m\u001b[0m\u001b[0m\n",
      "\u001b[1;32m~\\Desktop\\New folder\\test\\pretty-midi-master\\pretty_midi\\utilities.py\u001b[0m in \u001b[0;36minstrument_name_to_program\u001b[1;34m(instrument_name)\u001b[0m\n\u001b[0;32m    517\u001b[0m     \u001b[1;32mexcept\u001b[0m\u001b[1;33m:\u001b[0m\u001b[1;33m\u001b[0m\u001b[0m\n\u001b[0;32m    518\u001b[0m         raise ValueError('{} is not a valid General MIDI instrument '\n\u001b[1;32m--> 519\u001b[1;33m                          'name.'.format(instrument_name))\n\u001b[0m\u001b[0;32m    520\u001b[0m \u001b[1;33m\u001b[0m\u001b[0m\n\u001b[0;32m    521\u001b[0m     \u001b[1;31m# Return the index (program number) if a match was found\u001b[0m\u001b[1;33m\u001b[0m\u001b[1;33m\u001b[0m\u001b[0m\n",
      "\u001b[1;31mValueError\u001b[0m: Piano is not a valid General MIDI instrument name."
     ]
    }
   ],
   "source": [
    "start_time = 0\n",
    "output_song = pretty_midi.PrettyMIDI()\n",
    "output_piano = pretty_midi.instrument_name_to_program('Piano')\n",
    "piano = pretty_midi.Instrument(program=output_piano)\n",
    "for item in temp_song:\n",
    "    end_time = (step[item[0]] + start_time)\n",
    "    converted_note = pretty_midi.Note(velocity=item[2],pitch=item[1],start=start_time,end=end_time)\n",
    "    piano.notes.append(converted_note)\n",
    "    start_time = end_time\n",
    "output_song.instruments.append(piano)    \n",
    "output_song.write('output_song.mid')"
   ]
  },
  {
   "cell_type": "code",
   "execution_count": null,
   "metadata": {},
   "outputs": [],
   "source": [
    "def train_network():  \n",
    "    epochs = 200 \n",
    "    \n",
    "    notes = get_notes()  \n",
    "    print('Notes processed') \n",
    "    \n",
    "    n_vocab = len(set(notes))  \n",
    "    print('Vocab generated')\n",
    "    \n",
    "    # create input and output sequences\n",
    "    network_in, network_out = prepare_sequences(notes, n_vocab)  \n",
    "    print('Input and Output processed')  \n",
    "    \n",
    "    model = create_network(network_in, n_vocab)  \n",
    "    print('Model created') \n",
    "    \n",
    "    return model  \n",
    "\n",
    "    print('Training in progress')  \n",
    "    \n",
    "    train(model, network_in, network_out, epochs)  \n",
    "    print('Training completed')  \n"
   ]
  },
  {
   "cell_type": "code",
   "execution_count": null,
   "metadata": {},
   "outputs": [],
   "source": [
    "# Train model\n",
    "train_network()"
   ]
  },
  {
   "cell_type": "code",
   "execution_count": null,
   "metadata": {},
   "outputs": [],
   "source": [
    "def generate_notes(model, network_input, pitchnames, n_vocab):  \n",
    "    \"\"\" Generate notes from the neural network based on a sequence of notes \"\"\"  \n",
    "   # Pick a random integer  \n",
    "    start = np.random.randint(0, len(network_input)-1)  \n",
    "    int_to_note = dict((number, note) for number, note in enumerate(pitchnames))  \n",
    "    # pick a random sequence from the input as a starting point for the prediction  \n",
    "    pattern = network_input[start]  \n",
    "    prediction_output = []  \n",
    "    print('Generating notes........')  \n",
    "    # generate 500 notes  \n",
    "    for note_index in range(500):  \n",
    "        prediction_input = np.reshape(pattern, (1, len(pattern), 1))  \n",
    "        prediction_input = prediction_input / float(n_vocab)  \n",
    "        prediction = model.predict(prediction_input, verbose=0)  \n",
    "         # Predicted output is the argmax(P(h|D))  \n",
    "        index = np.argmax(prediction)  \n",
    "         # Mapping the predicted interger back to the corresponding note  \n",
    "        result = int_to_note[index]  \n",
    "         # Storing the predicted output  \n",
    "        prediction_output.append(result)  \n",
    "        pattern.append(index)  \n",
    "         # Next input to the model  \n",
    "        pattern = pattern[1:len(pattern)]  \n",
    "    print('Notes Generated...')  \n",
    "    return prediction_output  \n"
   ]
  },
  {
   "cell_type": "code",
   "execution_count": null,
   "metadata": {},
   "outputs": [],
   "source": [
    " ### Converts the predicted output to midi format  \n",
    "create_midi(prediction_output)  \n"
   ]
  },
  {
   "cell_type": "code",
   "execution_count": null,
   "metadata": {},
   "outputs": [],
   "source": [
    "generate_notes(model, network_input, pitchnames, n_vocab)"
   ]
  }
 ],
 "metadata": {
  "kernelspec": {
   "display_name": "Python 3",
   "language": "python",
   "name": "python3"
  },
  "language_info": {
   "codemirror_mode": {
    "name": "ipython",
    "version": 3
   },
   "file_extension": ".py",
   "mimetype": "text/x-python",
   "name": "python",
   "nbconvert_exporter": "python",
   "pygments_lexer": "ipython3",
   "version": "3.6.6"
  }
 },
 "nbformat": 4,
 "nbformat_minor": 2
}
